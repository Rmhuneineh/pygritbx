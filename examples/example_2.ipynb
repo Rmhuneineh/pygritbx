{
 "cells": [
  {
   "cell_type": "code",
   "execution_count": 1,
   "id": "dd2470d5",
   "metadata": {},
   "outputs": [],
   "source": [
    "import sys\n",
    "import os\n",
    "sys.path.append(os.path.abspath(\"..\"))\n",
    "import numpy as np\n",
    "import pygritbx"
   ]
  },
  {
   "cell_type": "code",
   "execution_count": null,
   "id": "4b8c56d1",
   "metadata": {},
   "outputs": [],
   "source": [
    "# Unit vecotrs for reference frame\n",
    "i = np.array([1, 0, 0])\n",
    "j = np.array([0, 1, 0])\n",
    "k = np.array([0, 0, 1])\n",
    "referenceFrame = np.array([i, j, k])"
   ]
  },
  {
   "cell_type": "code",
   "execution_count": 3,
   "id": "0ff120f8",
   "metadata": {},
   "outputs": [],
   "source": [
    "# Axial dimensions\n",
    "a = 79 # [mm]\n",
    "b = 70.5 # [mm]\n",
    "c = 59.25 # [mm]\n",
    "# From technical drawing anf bearing's width\n",
    "offset = 46 - 16 # [mm]"
   ]
  },
  {
   "cell_type": "code",
   "execution_count": 4,
   "id": "1adc82db",
   "metadata": {},
   "outputs": [],
   "source": [
    "# Input motor\n",
    "input_motor = pygritbx.Motor(name=\"Input Motor\", loc=0, power=31.5*1e3, n=1500, axis=k)"
   ]
  },
  {
   "cell_type": "code",
   "execution_count": 5,
   "id": "66853904",
   "metadata": {},
   "outputs": [],
   "source": [
    "# Material\n",
    "gear_material = pygritbx.Material(\"Steel\", sigma_u=1060, sigma_y=930, sigma_Dm1=0, HB=700)\n",
    "A2_material = pygritbx.Material(\"16MnCr5\", sigma_u=1060, sigma_y=930, sigma_Dm1=700, HB=0)"
   ]
  },
  {
   "cell_type": "code",
   "execution_count": 6,
   "id": "9db9698f",
   "metadata": {},
   "outputs": [],
   "source": [
    "# Gears\n",
    "# G1\n",
    "G1 = pygritbx.Gear(name=\"G1\", axis=k, loc=a+b, m_n=3, z=16, psi=-15, phi_n=20, Q_v=8, FW=45, material=gear_material)\n",
    "# G2\n",
    "G2 = pygritbx.Gear(name=\"G2\", axis=k, loc=a+b+offset, m_n=3, z=48, psi=15, phi_n=20, Q_v=8, FW=45, material=gear_material)\n",
    "# G3\n",
    "G3 = pygritbx.Gear(name=\"G3\", axis=k, loc=a+offset, m_n=4, z=21, psi=-15, phi_n=20, Q_v=8, FW=56, material=gear_material)\n",
    "# G4\n",
    "G4 = pygritbx.Gear(name=\"G4\", axis=k, loc=a, m_n=4, z=63, psi=15, phi_n=20, Q_v=8, FW=56, material=gear_material) "
   ]
  },
  {
   "cell_type": "code",
   "execution_count": 7,
   "id": "df5dc68b",
   "metadata": {},
   "outputs": [],
   "source": [
    "# Supports\n",
    "# A\n",
    "A = pygritbx.Support(name=\"A\", type=\"Roller\", bearingType=\"Cylindrical\", catalogueName=\"NU 206 ECP\", \n",
    "                     catalogueType=\"Explorer\", d=30, D=62, B=16, C=44*1e3, C0=36.5*1e3, Pu=4.5*1e3, nr=13*1e3,\n",
    "                     a=8, e=0.3, Y=0.4, Y1=0,kr=0.15, shoulder=1, arr=\"Single\", axis=k, loc=0)\n",
    "# B\n",
    "B = pygritbx.Support(name=\"B\", type=\"Pin\", bearingType=\"Tapered\", catalogueName=\"30206 DF\", \n",
    "                     catalogueType=\"Explorer\", d=30, D=62, B=34.5, C=85.7*1e3, C0=88*1e3, Pu=9.65*1e3, nr=7500,\n",
    "                     a=17.25, e=0.37, Y0=1.8, Y1=1.8, Y2=2.7, shoulder=-1, arr=\"F2F\", axis=k, loc=a+b+c)\n",
    "# C\n",
    "C = pygritbx.Support(name=\"C\", type=\"Roller\", bearingType=\"Cylindrical\", catalogueName=\"NU 209 ECP\", \n",
    "                     catalogueType=\"Explorer\", d=45, D=85, B=19, C=69.5*1e3, C0=64*1e3, Pu=8.15*1e3, nr=9*1e3,\n",
    "                     a=9.5, e=0.3, Y=0.4, kr=0.15, shoulder=1, arr=\"Single\", axis=k, loc=offset)\n",
    "# D\n",
    "D = pygritbx.Support(name=\"D\", type=\"Pin\", bearingType=\"Tapered\", catalogueName=\"32011 X/DF\", \n",
    "                     catalogueType=\"Explorer\", d=55, D=90, B=46, C=170*1e3, C0=232*1e3, Pu=26*1e3, nr=4500,\n",
    "                     a=23, e=0.4, Y0=1.6, Y1=1.7, Y2=2.5, arr=\"F2F\", axis=k, loc=a+b+c+offset)\n",
    "# E\n",
    "E = pygritbx.Support(name=\"E\", type=\"Roller\", bearingType=\"Cylindrical\", catalogueName=\"NU 2210 ECP\", \n",
    "                     catalogueType=\"Explorer\", d=50, D=90, B=23, C=90*1e3, C0=88*1e3, Pu=11.4*1e3, nr=8500,\n",
    "                     a=11.5, e=0.3, Y=0.4, kr=0.2, shoulder=1, arr=\"Single\", axis=k, loc=0)\n",
    "# F\n",
    "F = pygritbx.Support(name=\"F\", type=\"Pin\", bearingType=\"Tapered\", catalogueName=\"32011 X/DF\", \n",
    "                     catalogueType=\"Explorer\", d=55, D=90, B=46, C=170*1e3, C0=232*1e3, Pu=26*1e3, nr=4500,\n",
    "                     a=23, e=0.4, Y0=1.6, Y1=1.7, Y2=2.5, arr=\"F2F\", axis=k, loc=a+b+c)"
   ]
  },
  {
   "cell_type": "code",
   "execution_count": 8,
   "id": "eefd5401",
   "metadata": {},
   "outputs": [],
   "source": [
    "# Output Component\n",
    "output = pygritbx.Component(name=\"Output\", material=None, axis=k, loc=a+b+c+80)"
   ]
  },
  {
   "cell_type": "code",
   "execution_count": 9,
   "id": "289bb36b",
   "metadata": {},
   "outputs": [],
   "source": [
    "# Gearbox Configuration\n",
    "# Shaft A1\n",
    "A1 = pygritbx.Shaft(name=\"A1\", inputs=[input_motor], outputs=[G1], axis=k, material=None, sups=np.array([A, B]), loc=[0, 0, 0])\n",
    "# Mesh M1\n",
    "M1 = pygritbx.GearMesh(name=\"M1\", drivingGear=G1, drivenGear=G2, axis=i, type=\"External\")\n",
    "# Shaft A2\n",
    "A2 = pygritbx.Shaft(name=\"A2\", inputs=[G2], outputs=[G3], axis=k, material=A2_material, sups=np.array([C, D]))\n",
    "# Mesh M2\n",
    "M2 = pygritbx.GearMesh(name=\"M2\", drivingGear=G3, drivenGear=G4, axis=i, type=\"External\")\n",
    "# Shaft A3\n",
    "A3 = pygritbx.Shaft(name=\"A3\", inputs=[G4], outputs=[output], axis=k, material=None, sups=np.array([E, F]))"
   ]
  },
  {
   "cell_type": "code",
   "execution_count": 10,
   "id": "24091c1c",
   "metadata": {},
   "outputs": [
    {
     "name": "stdout",
     "output_type": "stream",
     "text": [
      "Checking torque equilibrium for A1.\n",
      "A1 does not mainatain a torque equilibrium.\n",
      "Checking solvability for A1.\n",
      "Solving torque equilibrium for A1.\n",
      "Torque equilibrium for A1 is solved.\n",
      "Checking torque equilibrium for G1.\n",
      "G1 does not mainatain a torque equilibrium.\n",
      "Checking solvability for G1.\n",
      "Solving forces on G1 due to mesh M1.\n",
      "Checking torque equilibrium for G1.\n",
      "G1 mainatains a torque equilibrium.\n",
      "Checking force equilibrium on A1.\n",
      "A1 does not maintain a force equilibrium.\n",
      "Checking force equilibrium on A1.\n",
      "A1 maintains a force equilibrium.\n"
     ]
    }
   ],
   "source": [
    "# Shaft A1\n",
    "A1.solve()"
   ]
  },
  {
   "cell_type": "code",
   "execution_count": 11,
   "id": "4ec53485",
   "metadata": {},
   "outputs": [
    {
     "name": "stdout",
     "output_type": "stream",
     "text": [
      "Checking torque equilibrium for G1.\n",
      "G1 mainatains a torque equilibrium.\n",
      "Nothing to be solved for G1.\n"
     ]
    }
   ],
   "source": [
    "# Gear G1\n",
    "G1.solve()"
   ]
  },
  {
   "cell_type": "code",
   "execution_count": 12,
   "id": "602cd041",
   "metadata": {},
   "outputs": [
    {
     "name": "stdout",
     "output_type": "stream",
     "text": [
      "Checking torque equilibrium for G2.\n",
      "Checking solvability for G2.\n",
      "Solving torque equilibrium for G2.\n",
      "Checking torque equilibrium for G2.\n",
      "G2 mainatains a torque equilibrium.\n"
     ]
    }
   ],
   "source": [
    "# Gear G2\n",
    "G2.solve()"
   ]
  },
  {
   "cell_type": "code",
   "execution_count": 13,
   "id": "d8fffcb7",
   "metadata": {},
   "outputs": [
    {
     "name": "stdout",
     "output_type": "stream",
     "text": [
      "Checking torque equilibrium for A2.\n",
      "A2 does not mainatain a torque equilibrium.\n",
      "Checking solvability for A2.\n",
      "Solving torque equilibrium for A2.\n",
      "Torque equilibrium for A2 is solved.\n",
      "Checking torque equilibrium for G3.\n",
      "G3 does not mainatain a torque equilibrium.\n",
      "Checking solvability for G3.\n",
      "Solving forces on G3 due to mesh M2.\n",
      "Checking torque equilibrium for G3.\n",
      "G3 mainatains a torque equilibrium.\n",
      "Checking force equilibrium on A2.\n",
      "A2 does not maintain a force equilibrium.\n",
      "Checking force equilibrium on A2.\n",
      "A2 maintains a force equilibrium.\n"
     ]
    }
   ],
   "source": [
    "# Shaft A2\n",
    "A2.solve()"
   ]
  },
  {
   "cell_type": "code",
   "execution_count": 14,
   "id": "c664eb30",
   "metadata": {},
   "outputs": [
    {
     "name": "stdout",
     "output_type": "stream",
     "text": [
      "Checking torque equilibrium for G3.\n",
      "G3 mainatains a torque equilibrium.\n",
      "Nothing to be solved for G3.\n"
     ]
    }
   ],
   "source": [
    "# Gear G3\n",
    "G3.solve()"
   ]
  },
  {
   "cell_type": "code",
   "execution_count": 15,
   "id": "288e793d",
   "metadata": {},
   "outputs": [
    {
     "name": "stdout",
     "output_type": "stream",
     "text": [
      "Checking torque equilibrium for G4.\n",
      "Checking solvability for G4.\n",
      "Solving torque equilibrium for G4.\n",
      "Checking torque equilibrium for G4.\n",
      "G4 mainatains a torque equilibrium.\n"
     ]
    }
   ],
   "source": [
    "# Gear G4\n",
    "G4.solve()"
   ]
  },
  {
   "cell_type": "code",
   "execution_count": 16,
   "id": "44467c23",
   "metadata": {},
   "outputs": [
    {
     "data": {
      "text/plain": [
       "array([   0.        ,    0.        , 1804.81705466])"
      ]
     },
     "execution_count": 16,
     "metadata": {},
     "output_type": "execute_result"
    }
   ],
   "source": [
    "G4.ETs[0].torque"
   ]
  },
  {
   "cell_type": "code",
   "execution_count": 17,
   "id": "fc628324",
   "metadata": {},
   "outputs": [],
   "source": [
    "# Update output force\n",
    "Fout_r = np.abs(np.sum(G4.ETs[0].torque)) / 0.25 * i\n",
    "Fout_a = 0.25 * np.abs(np.sum(Fout_r)) * (k)\n",
    "Fout = pygritbx.Force(Fout_a + Fout_r, output.abs_loc)\n",
    "A3.outputs[0].updateEFs([Fout])"
   ]
  },
  {
   "cell_type": "code",
   "execution_count": 18,
   "id": "202d31a8",
   "metadata": {},
   "outputs": [
    {
     "name": "stdout",
     "output_type": "stream",
     "text": [
      "Checking torque equilibrium for A3.\n",
      "A3 does not mainatain a torque equilibrium.\n",
      "Checking solvability for A3.\n",
      "Solving torque equilibrium for A3.\n",
      "Torque equilibrium for A3 is solved.\n",
      "Checking force equilibrium on A3.\n",
      "A3 does not maintain a force equilibrium.\n",
      "Checking force equilibrium on A3.\n",
      "A3 maintains a force equilibrium.\n"
     ]
    }
   ],
   "source": [
    "# Shaft A3\n",
    "A3.solve()"
   ]
  },
  {
   "cell_type": "code",
   "execution_count": 19,
   "id": "994ca9a1",
   "metadata": {},
   "outputs": [
    {
     "data": {
      "text/plain": [
       "(array([1120.59633936, 2290.78897174,    0.        ]),\n",
       " array([1920.60591153, 5780.13419874, 2162.59734571]))"
      ]
     },
     "execution_count": 19,
     "metadata": {},
     "output_type": "execute_result"
    }
   ],
   "source": [
    "# Reaction on A1\n",
    "A.F_tot.force, B.F_tot.force"
   ]
  },
  {
   "cell_type": "code",
   "execution_count": 20,
   "id": "6ca6bf17",
   "metadata": {},
   "outputs": [
    {
     "data": {
      "text/plain": [
       "(array([  3921.71762195, -10890.56818574,      0.        ]),\n",
       " array([ -1749.43029988, -11016.22327701,   1544.71238979]))"
      ]
     },
     "execution_count": 20,
     "metadata": {},
     "output_type": "execute_result"
    }
   ],
   "source": [
    "# Reaction on A2\n",
    "C.F_tot.force, D.F_tot.force"
   ]
  },
  {
   "cell_type": "code",
   "execution_count": 21,
   "id": "eec71ed4",
   "metadata": {},
   "outputs": [
    {
     "data": {
      "text/plain": [
       "(array([1842.8285398 , 8599.77921399,    0.        ]),\n",
       " array([-14275.58633141,   5236.08907827,  -5512.12679016]))"
      ]
     },
     "execution_count": 21,
     "metadata": {},
     "output_type": "execute_result"
    }
   ],
   "source": [
    "# Reaction on A3\n",
    "E.F_tot.force, F.F_tot.force"
   ]
  },
  {
   "cell_type": "code",
   "execution_count": null,
   "id": "783eb082",
   "metadata": {},
   "outputs": [],
   "source": [
    "# Shaft A2 Profile\n",
    "shaftProfile = pygritbx.ShaftProfile(name=\"prof\",\n",
    "                                     radii=np.array([42.5, 45, 45, 42.5, 42.5, 45, 45, 52, 52, G3.d_f, G3.d_f, 62, 62, 56, 56, 55, 55, 50, 50])/2, \n",
    "                                     locs=np.array([0, 1, 5.9, 6, 7.84, 7.85, 45.9, 46, 80.9, 81, 136.9, 137, 156.9, 157, 204.9, 205, 267.9, 268, 288]))\n",
    "shaftProfile.addFillet(radius=1.5, quadrant=[1, 2], zOff=44.5, dOff=22.5)\n",
    "shaftProfile.addFillet(radius=5, quadrant=[2], zOff=76, dOff=31)\n",
    "shaftProfile.addFillet(radius=2, quadrant=[1], zOff=139, dOff=33)\n",
    "shaftProfile.addFillet(radius=1, quadrant=[1], zOff=158, dOff=29)\n",
    "shaftProfile.addFillet(radius=1.5, quadrant=[1, 2], zOff=206.5, dOff=27.5)\n",
    "refinedProfile = shaftProfile.refineProfile(delta=0.1)\n",
    "A2.addProfile(profile=refinedProfile)\n",
    "#A2.profile.CalculateSectionProperties()"
   ]
  },
  {
   "cell_type": "code",
   "execution_count": null,
   "id": "cfd2f3fa",
   "metadata": {},
   "outputs": [],
   "source": [
    "# Shaft A2 Sections\n",
    "# Section V1\n",
    "v1 = pygritbx.ShaftSection(name=\"V1\", loc=a+offset, d=G3.d_f, Ra=1.6, material=A2.material)\n",
    "v1.appendKf(Kf=np.array([1.2, 1.5]), loadType=np.array([\"Bending\", \"Torsion\"]))\n",
    "# Section V2\n",
    "v2 = pygritbx.ShaftSection(name=\"V2\", loc=a+G3.FW/2+4+offset, d=62, Ra=1.6, material=A2.material)\n",
    "v2.addNotchSensitivity(notchRadius=2, sigma_u=A2.material.sigma_u)\n",
    "v2.addGeometricStressRaiser(r2d=2/62, D2d=G3.d_f/62)\n",
    "# Section V3\n",
    "v3 = pygritbx.ShaftSection(name=\"V3\", loc=a+b-G2.FW/2+3+offset, d=62, Ra=1.6, material=A2.material)\n",
    "v3.addNotchSensitivity(notchRadius=1, sigma_u=A2.material.sigma_u)\n",
    "v3.addGeometricStressRaiser(r2d=1/56, D2d=62/56)\n",
    "# Section V4\n",
    "v4 = pygritbx.ShaftSection(name=\"V4\", loc=a+b-0.1+offset, d=56, Ra=1.6, material=A2.material)\n",
    "v4.appendKf(Kf=np.array([1.6, 1.2]), loadType=np.array([\"Bending\", \"Torsion\"]))\n",
    "# Add to shaft\n",
    "userSections = np.array([v1, v2, v3, v4])\n",
    "A2.addSections(sections=userSections)"
   ]
  },
  {
   "cell_type": "code",
   "execution_count": null,
   "id": "0f1671a3",
   "metadata": {},
   "outputs": [],
   "source": [
    "# Perform static verification on shaft A2\n",
    "A2.performStaticVerification(RF=referenceFrame)"
   ]
  },
  {
   "cell_type": "code",
   "execution_count": null,
   "id": "dee9d50e",
   "metadata": {},
   "outputs": [],
   "source": [
    "# Perform fatigue verification on shaft A2\n",
    "A2.performFatigueVerification(RF=referenceFrame)"
   ]
  },
  {
   "cell_type": "code",
   "execution_count": 35,
   "id": "d5dac364",
   "metadata": {},
   "outputs": [
    {
     "name": "stdout",
     "output_type": "stream",
     "text": [
      "Initiating gear tooth bending analysis for gear G3.\n",
      "Calculating maximum gear tooth bending stress for fatigue.\n",
      "Maximum gear tooth bending stress for fatigue for gear G3: 207.96 [MPa].\n",
      "Calculating bending safety factor for gear G3.\n",
      "Gear tooth bending safety factor for gear G3: 4.04 [-].\n"
     ]
    }
   ],
   "source": [
    "G3.analyseGearToothBending(mesh=M2, powerSource=\"Uniform\", drivenMachine=\"Uniform\", dShaft=52, Ce=1,\n",
    "                           teethCond=\"uncrowned teeth\", lShaft=a+b+c, useCond=\"Commercial, enclosed units\", sigma_FP=860, b_YN=1.3558,\n",
    "                           e_YN=-0.0178, N=1e8, temp=60, rel=0.99)"
   ]
  },
  {
   "cell_type": "code",
   "execution_count": 37,
   "id": "66a4c197",
   "metadata": {},
   "outputs": [
    {
     "name": "stdout",
     "output_type": "stream",
     "text": [
      "Initiating gear tooth pitting analysis for gear G3.\n",
      "Calculating maximum gear contact stress.\n",
      "Maximum gear contact stress for gear G3: 630.40 [MPa].\n",
      "Calculating wear safety fator for gear G3.\n",
      "Wear safety factor for gear G3: 2.21 [-].\n"
     ]
    }
   ],
   "source": [
    "G3.analyseGearToothPitting(mesh=M2, Z_R=1, sigma_HP=1470, b_ZN=1.4488, e_ZN=-0.023, N=1e8)"
   ]
  },
  {
   "cell_type": "code",
   "execution_count": 43,
   "id": "0bef285a",
   "metadata": {},
   "outputs": [
    {
     "name": "stdout",
     "output_type": "stream",
     "text": [
      "Initiating Life Analysis on bearing A.\n",
      "Checking minimum load condition.\n",
      "Bearing A satisfies minimium load condition.\n",
      "Calculating static safety factor.\n",
      "Bearing A's equivalent static load: 2550.19 [N].\n",
      "Bearing A's static safety factor: 14.31 [-].\n",
      "Calculating reliability factor.\n",
      "Bearing A's reliability factor: 1.00 [-].\n",
      "Calculating equivalent dynamic load.\n",
      "Bearing A's equivalent dynamic load: 2550.19 [N].\n",
      "Calculating contamination factor based on given condition: 'Normal cleanliness'.\n",
      "Bearing A's contamination factor: 0.55 [-].\n",
      "Calculating bearing life.\n",
      "Bearing A life analysis results: 106175.88 [million cycles] | 1179732.00 [hours].\n"
     ]
    }
   ],
   "source": [
    "A.performLifeAnalysis(rel=90, condition=\"Normal cleanliness\", a_skf=8)"
   ]
  },
  {
   "cell_type": "code",
   "execution_count": 44,
   "id": "8f17a968",
   "metadata": {},
   "outputs": [
    {
     "name": "stdout",
     "output_type": "stream",
     "text": [
      "Initiating Life Analysis on bearing B.\n",
      "Checking minimum load condition.\n",
      "Bearing B satisfies minimium load condition.\n",
      "Calculating static safety factor.\n",
      "Bearing B's equivalent static load: 7518.30 [N].\n",
      "Bearing B's static safety factor: 11.70 [-].\n",
      "Calculating reliability factor.\n",
      "Bearing B's reliability factor: 1.00 [-].\n",
      "Calculating equivalent dynamic load.\n",
      "Bearing B's equivalent dynamic load: 8268.18 [N].\n",
      "Calculating contamination factor based on given condition: 'Normal cleanliness'.\n",
      "Bearing B's contamination factor: 0.55 [-].\n",
      "Calculating bearing life.\n",
      "Bearing B life analysis results: 7769.38 [million cycles] | 86326.46 [hours].\n"
     ]
    }
   ],
   "source": [
    "B.performLifeAnalysis(rel=90, condition=\"Normal cleanliness\", a_skf=3.2)"
   ]
  },
  {
   "cell_type": "code",
   "execution_count": 45,
   "id": "ee21b565",
   "metadata": {},
   "outputs": [
    {
     "name": "stdout",
     "output_type": "stream",
     "text": [
      "Initiating Life Analysis on bearing C.\n",
      "Checking minimum load condition.\n",
      "Bearing C satisfies minimium load condition.\n",
      "Calculating static safety factor.\n",
      "Bearing C's equivalent static load: 11575.16 [N].\n",
      "Bearing C's static safety factor: 5.53 [-].\n",
      "Calculating reliability factor.\n",
      "Bearing C's reliability factor: 1.00 [-].\n",
      "Calculating equivalent dynamic load.\n",
      "Bearing C's equivalent dynamic load: 11575.16 [N].\n",
      "Calculating contamination factor based on given condition: 'Normal cleanliness'.\n",
      "Bearing C's contamination factor: 0.55 [-].\n",
      "Calculating bearing life.\n",
      "Bearing C life analysis results: 1849.09 [million cycles] | 61636.20 [hours].\n"
     ]
    }
   ],
   "source": [
    "C.performLifeAnalysis(rel=90, condition=\"Normal cleanliness\", a_skf=4.7)"
   ]
  },
  {
   "cell_type": "code",
   "execution_count": 46,
   "id": "ac643343",
   "metadata": {},
   "outputs": [
    {
     "name": "stdout",
     "output_type": "stream",
     "text": [
      "Initiating Life Analysis on bearing D.\n",
      "Checking minimum load condition.\n",
      "Bearing D satisfies minimium load condition.\n",
      "Calculating static safety factor.\n",
      "Bearing D's equivalent static load: 15457.24 [N].\n",
      "Bearing D's static safety factor: 15.01 [-].\n",
      "Calculating reliability factor.\n",
      "Bearing D's reliability factor: 1.00 [-].\n",
      "Calculating equivalent dynamic load.\n",
      "Bearing D's equivalent dynamic load: 15611.71 [N].\n",
      "Calculating contamination factor based on given condition: 'Normal cleanliness'.\n",
      "Bearing D's contamination factor: 0.55 [-].\n",
      "Calculating bearing life.\n",
      "Bearing D life analysis results: 18316.44 [million cycles] | 610548.03 [hours].\n"
     ]
    }
   ],
   "source": [
    "D.performLifeAnalysis(rel=90, condition=\"Normal cleanliness\", a_skf=6.4)"
   ]
  },
  {
   "cell_type": "code",
   "execution_count": 47,
   "id": "dde89b12",
   "metadata": {},
   "outputs": [
    {
     "name": "stdout",
     "output_type": "stream",
     "text": [
      "Initiating Life Analysis on bearing E.\n",
      "Checking minimum load condition.\n",
      "Bearing E satisfies minimium load condition.\n",
      "Calculating static safety factor.\n",
      "Bearing E's equivalent static load: 8795.01 [N].\n",
      "Bearing E's static safety factor: 10.01 [-].\n",
      "Calculating reliability factor.\n",
      "Bearing E's reliability factor: 1.00 [-].\n",
      "Calculating equivalent dynamic load.\n",
      "Bearing E's equivalent dynamic load: 8795.01 [N].\n",
      "Calculating contamination factor based on given condition: 'Normal cleanliness'.\n",
      "Bearing E's contamination factor: 0.55 [-].\n",
      "Calculating bearing life.\n",
      "Bearing E life analysis results: 9328.92 [million cycles] | 932892.15 [hours].\n"
     ]
    }
   ],
   "source": [
    "E.performLifeAnalysis(rel=90, condition=\"Normal cleanliness\", a_skf=4.01)"
   ]
  },
  {
   "cell_type": "code",
   "execution_count": 48,
   "id": "0bed44cc",
   "metadata": {},
   "outputs": [
    {
     "name": "stdout",
     "output_type": "stream",
     "text": [
      "Initiating Life Analysis on bearing F.\n",
      "Checking minimum load condition.\n",
      "Bearing F satisfies minimium load condition.\n",
      "Calculating static safety factor.\n",
      "Bearing F's equivalent static load: 31472.53 [N].\n",
      "Bearing F's static safety factor: 7.37 [-].\n",
      "Calculating reliability factor.\n",
      "Bearing F's reliability factor: 1.00 [-].\n",
      "Calculating equivalent dynamic load.\n",
      "Bearing F's equivalent dynamic load: 32023.74 [N].\n",
      "Calculating contamination factor based on given condition: 'Normal cleanliness'.\n",
      "Bearing F's contamination factor: 0.55 [-].\n",
      "Calculating bearing life.\n",
      "Bearing F life analysis results: 503.67 [million cycles] | 50367.10 [hours].\n"
     ]
    }
   ],
   "source": [
    "F.performLifeAnalysis(rel=90, condition=\"Normal cleanliness\", a_skf=1.93)"
   ]
  },
  {
   "cell_type": "code",
   "execution_count": null,
   "id": "a6611ec6",
   "metadata": {},
   "outputs": [],
   "source": [
    "# Define oil of choice\n",
    "oil = pygritbx.Oil(name=\"ISO VG 220\", temp=60, v1=60, v=86)"
   ]
  }
 ],
 "metadata": {
  "kernelspec": {
   "display_name": "pygrit",
   "language": "python",
   "name": "python3"
  },
  "language_info": {
   "codemirror_mode": {
    "name": "ipython",
    "version": 3
   },
   "file_extension": ".py",
   "mimetype": "text/x-python",
   "name": "python",
   "nbconvert_exporter": "python",
   "pygments_lexer": "ipython3",
   "version": "3.11.5"
  }
 },
 "nbformat": 4,
 "nbformat_minor": 5
}
