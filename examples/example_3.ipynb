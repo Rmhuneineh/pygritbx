{
 "cells": [
  {
   "cell_type": "code",
   "execution_count": 1,
   "id": "7507e3e1",
   "metadata": {},
   "outputs": [],
   "source": [
    "import sys\n",
    "import os\n",
    "sys.path.append(os.path.abspath(\"..\"))\n",
    "import numpy as np\n",
    "import pygritbx"
   ]
  },
  {
   "cell_type": "code",
   "execution_count": 2,
   "id": "ce3dbaa7",
   "metadata": {},
   "outputs": [],
   "source": [
    "# Unit vecotrs for reference frame\n",
    "i = np.array([1, 0, 0])\n",
    "j = np.array([0, 1, 0])\n",
    "k = np.array([0, 0, 1])\n",
    "referenceFrame = np.array([i, j, k])"
   ]
  },
  {
   "cell_type": "code",
   "execution_count": 3,
   "id": "924c9bc1",
   "metadata": {},
   "outputs": [],
   "source": [
    "# Material\n",
    "A1_material = pygritbx.Material(name=\"C45 quenched and tempered steel\", sigma_u=780, sigma_y=370, sigma_Dm1=380)\n",
    "A2_material = pygritbx.Material(name=\"34CrNiMo6 quenched and tempered steel\", sigma_u=1050, sigma_y=950, sigma_Dm1=520)\n",
    "gear_material = pygritbx.Material(name=\"Steel\", sigma_u=1950, sigma_y=1450, HB=525)"
   ]
  },
  {
   "cell_type": "code",
   "execution_count": 4,
   "id": "56ab4a7a",
   "metadata": {},
   "outputs": [],
   "source": [
    "# Input Motor\n",
    "input_motor = pygritbx.Motor(name=\"Input Motor\", loc=0, power=15e3, n=750, axis=k)"
   ]
  },
  {
   "cell_type": "code",
   "execution_count": 5,
   "id": "7bf58820",
   "metadata": {},
   "outputs": [],
   "source": [
    "# Locations\n",
    "# Shaft A1\n",
    "locG2 = 146 - 82 - (41 / 2) # [mm]\n",
    "locG3 = 311 - 92 + 39 + (41 / 2) # [mm]\n",
    "locA = 146 - 29 + 34 # [mm]\n",
    "locB = 311 - 92 + 29 - 34 # [mm]\n",
    "# Shaft A2\n",
    "a = 216.2 # [mm]\n",
    "b = 70.2 # [mm]\n",
    "c = 169.8 # [mm]\n",
    "locG4 = b + c # [mm]\n"
   ]
  },
  {
   "cell_type": "code",
   "execution_count": 6,
   "id": "662f9d5d",
   "metadata": {},
   "outputs": [],
   "source": [
    "# Gears\n",
    "# G1\n",
    "G1 = pygritbx.Gear(name=\"G1\", axis=k, m_n=4, z=32, psi=-21, phi_n=20, Q_v=8, FW=44, material=gear_material)\n",
    "# G2\n",
    "G2 = pygritbx.Gear(name=\"G2\", axis=k, loc=locG2, m_n=4, z=24, psi=21, phi_n=20, Q_v=8, FW=44, material=gear_material)\n",
    "# G3\n",
    "G3 = pygritbx.BevelGear(name=\"G3\", axis=k, loc=locG3, m_n=5, z=24, gamma=45, phi_n=20, Q_v=8, FW=30, material=gear_material)\n",
    "# G4\n",
    "G4 = pygritbx.BevelGear(name=\"G4\", axis=j, loc=locG4, m_n=5, z=24, gamma=45, phi_n=20, Q_v=8, FW=30, material=gear_material)"
   ]
  },
  {
   "cell_type": "code",
   "execution_count": 7,
   "id": "4d40f002",
   "metadata": {},
   "outputs": [],
   "source": [
    "# Supports\n",
    "# A\n",
    "A = pygritbx.Support(name=\"A\", type=\"Roller\", bearingType=\"Contact Ball\", catalogueName=\"7311 ACCBM\", catalogueType=\"Explorer\", \n",
    "                    d=55, D=120, B=29, C=96.5*1e3, C0=67*1e3, Pu=2.85*1e3, nr=7500, a=34, e=1.14, X=0.57, Y0=0.52, Y1=0.55,\n",
    "                    Y2=0.93, A=0.0234, kr=0.1, R=0.57, shoulder=1, arr=\"F2F\", axis=k, loc=locA)\n",
    "# B\n",
    "B = pygritbx.Support(name=\"B\", type=\"Pin\", bearingType=\"Contact Ball\", catalogueName=\"7311 ACCBM\", catalogueType=\"Explorer\", \n",
    "                    d=55, D=120, B=29, C=96.5*1e3, C0=67*1e3, Pu=2.85*1e3, nr=7500, a=34, e=1.14, X=0.57, Y0=0.52, Y1=0.55,\n",
    "                    Y2=0.93, A=0.0234, kr=0.1, R=0.57, shoulder=-1, arr=\"F2F\", axis=k, loc=locB)\n",
    "# C\n",
    "C = pygritbx.Support(name=\"C\", type=\"Roller\", bearingType=\"Tapered\", catalogueName=\"30311\", catalogueType=\"Explorer\", \n",
    "                    d=55, D=120, C=176*1e3, C0=163*1e3, Pu=19.3*1e3, nr=4800, e=0.35, Y=1.7, Y0=1.8, Y1=1.9,\n",
    "                    Y2=2.9, shoulder=1, arr=\"B2B\", axis=j, loc=a+b+c)\n",
    "# D\n",
    "D = pygritbx.Support(name=\"D\", type=\"Pin\", bearingType=\"Tapered\", catalogueName=\"30314\", catalogueType=\"Explorer\", \n",
    "                    d=70, D=150, C=271*1e3, C0=260*1e3, Pu=31*1e3, nr=3800, e=0.35, Y=1.7, Y0=1.8, Y1=1.9,\n",
    "                    Y2=2.9, shoulder=-1, arr=\"B2B\", axis=j, loc=c)"
   ]
  },
  {
   "cell_type": "code",
   "execution_count": 8,
   "id": "e05235b5",
   "metadata": {},
   "outputs": [],
   "source": [
    "# Output Component\n",
    "output = pygritbx.Component(name=\"Output\", material=None, axis=j)"
   ]
  },
  {
   "cell_type": "code",
   "execution_count": 9,
   "id": "18a3354e",
   "metadata": {},
   "outputs": [],
   "source": [
    "# Gearbox Configuration\n",
    "# Shaft A\n",
    "Ap = pygritbx.Shaft(name=\"Ap\", inputs=[input_motor], outputs=[G1], axis=k, material=None, sups=np.array([]), loc=[0, 0, 0])\n",
    "# Mesh M1\n",
    "M1 = pygritbx.GearMesh(name=\"M1\", drivingGear=G1, drivenGear=G2, radiality=[j], type=\"External\")\n",
    "# Shaft A1\n",
    "A1 = pygritbx.Shaft(name=\"A1\", inputs=[G2], outputs=[G3], axis=k, material=A1_material, sups=np.array([A, B]))\n",
    "# Mesh M2\n",
    "M2 = pygritbx.GearMesh(name=\"M2\", drivingGear=G3, drivenGear=G4, radiality=np.array([-j, k]), type=\"External\")\n",
    "# Shaft A2\n",
    "A2 = pygritbx.Shaft(name=\"A2\", inputs=[G4], outputs=[output], axis=j, material=A2_material, sups=np.array([C, D]))"
   ]
  },
  {
   "cell_type": "code",
   "execution_count": 10,
   "id": "41b69197",
   "metadata": {},
   "outputs": [
    {
     "name": "stdout",
     "output_type": "stream",
     "text": [
      "Checking torque equilibrium for Ap.\n",
      "Ap does not mainatain a torque equilibrium.\n",
      "Checking solvability for Ap.\n",
      "Solving torque equilibrium for Ap.\n",
      "Torque equilibrium for Ap is solved.\n",
      "Checking torque equilibrium for G1.\n",
      "G1 does not mainatain a torque equilibrium.\n",
      "Checking solvability for G1.\n",
      "Solving forces on G1 due to mesh M1.\n",
      "Checking torque equilibrium for G1.\n",
      "G1 mainatains a torque equilibrium.\n",
      "Checking force equilibrium on Ap.\n",
      "Ap does not maintain a force equilibrium.\n",
      "Reaction forces on Ap won't be calculated.\n"
     ]
    }
   ],
   "source": [
    "Ap.solve()"
   ]
  },
  {
   "cell_type": "code",
   "execution_count": 11,
   "id": "70205c38",
   "metadata": {},
   "outputs": [
    {
     "name": "stdout",
     "output_type": "stream",
     "text": [
      "Checking torque equilibrium for G1.\n",
      "G1 mainatains a torque equilibrium.\n",
      "Nothing to be solved for G1.\n"
     ]
    }
   ],
   "source": [
    "G1.solve()"
   ]
  },
  {
   "cell_type": "code",
   "execution_count": 12,
   "id": "ae1279d4",
   "metadata": {},
   "outputs": [
    {
     "name": "stdout",
     "output_type": "stream",
     "text": [
      "Checking torque equilibrium for G2.\n",
      "Checking solvability for G2.\n",
      "Solving torque equilibrium for G2.\n",
      "Checking torque equilibrium for G2.\n",
      "G2 mainatains a torque equilibrium.\n"
     ]
    }
   ],
   "source": [
    "G2.solve()"
   ]
  },
  {
   "cell_type": "code",
   "execution_count": 13,
   "id": "d9c41490",
   "metadata": {},
   "outputs": [
    {
     "data": {
      "text/plain": [
       "array([-2785.94886845,  1086.14366103,  1069.42557405])"
      ]
     },
     "execution_count": 13,
     "metadata": {},
     "output_type": "execute_result"
    }
   ],
   "source": [
    "G2.EFs[0].force"
   ]
  },
  {
   "cell_type": "code",
   "execution_count": 14,
   "id": "b723e6aa",
   "metadata": {},
   "outputs": [
    {
     "name": "stdout",
     "output_type": "stream",
     "text": [
      "Checking torque equilibrium for A1.\n",
      "A1 does not mainatain a torque equilibrium.\n",
      "Checking solvability for A1.\n",
      "Solving torque equilibrium for A1.\n",
      "Torque equilibrium for A1 is solved.\n",
      "Checking torque equilibrium for G3.\n",
      "G3 does not mainatain a torque equilibrium.\n",
      "Checking solvability for G3.\n",
      "Solving forces on G3 due to mesh M2.\n",
      "Checking torque equilibrium for G3.\n",
      "G3 mainatains a torque equilibrium.\n",
      "Checking force equilibrium on A1.\n",
      "A1 does not maintain a force equilibrium.\n",
      "Summation of external forces without bearing in the axial direction: 323.07202096218737 with sign 1.0\n",
      "Found pin bearing: 'B'\n",
      "Calculating reaction on bearing 'A' by applying moment around bearing 'B'\n",
      "Distance between two bearing: [  0.   0. -63.]\n",
      "Calculated total force on bearing 'A': [10508.76898014 -1887.74850084     0.        ]\n",
      "Bearing 'A' from the shaft's pov: A\n",
      "Bearing 'B' from the shaft's pov: B\n",
      "Axial reaction forces on A1 with Contact Ball bearings: Case 1a\n",
      "A total force before update: [10508.76898014 -1887.74850084     0.        ]\n",
      "A axial force component: 6085.876410112153\n",
      "B total force before update: [-10622.79164158     55.25128672      0.        ]\n",
      "B axial force component: -6408.948431074341\n",
      "A total force after update: [10508.76898014 -1887.74850084  6085.87641011]\n",
      "B total force after update: [-10622.79164158     55.25128672  -6408.94843107]\n",
      "Checking force equilibrium on A1.\n",
      "A1 maintains a force equilibrium.\n"
     ]
    }
   ],
   "source": [
    "A1.solve()"
   ]
  },
  {
   "cell_type": "code",
   "execution_count": 15,
   "id": "3cd234f3",
   "metadata": {},
   "outputs": [
    {
     "data": {
      "text/plain": [
       "array([2899.97152989,  746.35355308, -746.35355308])"
      ]
     },
     "execution_count": 15,
     "metadata": {},
     "output_type": "execute_result"
    }
   ],
   "source": [
    "G3.EFs[0].force"
   ]
  },
  {
   "cell_type": "code",
   "execution_count": 30,
   "id": "13e62bb2",
   "metadata": {},
   "outputs": [
    {
     "data": {
      "text/plain": [
       "(array([10508.76898014, -1887.74850084,  6085.87641011]),\n",
       " array([-10622.79164158,     55.25128672,  -6408.94843107]))"
      ]
     },
     "execution_count": 30,
     "metadata": {},
     "output_type": "execute_result"
    }
   ],
   "source": [
    "A.F_tot.force, B.F_tot.force"
   ]
  },
  {
   "cell_type": "code",
   "execution_count": 19,
   "id": "29c977ff",
   "metadata": {},
   "outputs": [
    {
     "name": "stdout",
     "output_type": "stream",
     "text": [
      "Checking torque equilibrium for G4.\n",
      "Checking solvability for G4.\n",
      "Solving torque equilibrium for G4.\n",
      "Checking torque equilibrium for G4.\n",
      "G4 mainatains a torque equilibrium.\n"
     ]
    }
   ],
   "source": [
    "G4.solve()"
   ]
  },
  {
   "cell_type": "code",
   "execution_count": 20,
   "id": "a4ca4de4",
   "metadata": {},
   "outputs": [
    {
     "data": {
      "text/plain": [
       "array([-2899.97152989,  -746.35355308,   746.35355308])"
      ]
     },
     "execution_count": 20,
     "metadata": {},
     "output_type": "execute_result"
    }
   ],
   "source": [
    "G4.EFs[0].force"
   ]
  },
  {
   "cell_type": "code",
   "execution_count": 21,
   "id": "a1616c58",
   "metadata": {},
   "outputs": [],
   "source": [
    "# Update output force\n",
    "Fout_r = np.abs(np.sum(G4.ETs[0].torque)) / 0.0125 * (-k)\n",
    "Fout_a = 0.25 * np.abs(np.sum(Fout_r)) * (-j)\n",
    "Fout = pygritbx.Force(Fout_a + Fout_r, output.abs_loc)\n",
    "A2.outputs[0].updateEFs([Fout])"
   ]
  },
  {
   "cell_type": "code",
   "execution_count": 22,
   "id": "21bc4786",
   "metadata": {},
   "outputs": [
    {
     "data": {
      "text/plain": [
       "array([  0.        , 143.23944878,   0.        ])"
      ]
     },
     "execution_count": 22,
     "metadata": {},
     "output_type": "execute_result"
    }
   ],
   "source": [
    "G4.ETs[0].torque"
   ]
  },
  {
   "cell_type": "code",
   "execution_count": 23,
   "id": "31e9512a",
   "metadata": {},
   "outputs": [
    {
     "name": "stdout",
     "output_type": "stream",
     "text": [
      "Checking torque equilibrium for A2.\n",
      "A2 does not mainatain a torque equilibrium.\n",
      "Checking solvability for A2.\n",
      "Solving torque equilibrium for A2.\n",
      "Torque equilibrium for A2 is solved.\n",
      "Checking force equilibrium on A2.\n",
      "A2 does not maintain a force equilibrium.\n",
      "Summation of external forces without bearing in the axial direction: -3611.142528738958 with sign -1.0\n",
      "Found pin bearing: 'D'\n",
      "Calculating reaction on bearing 'C' by applying moment around bearing 'D'\n",
      "Distance between two bearing: [  0.  286.4   0. ]\n",
      "Calculated total force on bearing 'C': [  710.81704399     0.         -6848.09271433]\n",
      "Bearing 'A' from the shaft's pov: C\n",
      "Bearing 'B' from the shaft's pov: D\n",
      "Axial reaction forces on A2 with Tapered bearings: Case 2a\n",
      "C total force before update: [  710.81704399     0.         -6848.09271433]\n",
      "C axial force component: 8816.089543475746\n",
      "D total force before update: [ 2189.1544859      0.         17560.89506386]\n",
      "D axial force component: -5204.947014736787\n",
      "C total force after update: [  710.81704399  8816.08954348 -6848.09271433]\n",
      "D total force after update: [ 2189.1544859  -5204.94701474 17560.89506386]\n",
      "Checking force equilibrium on A2.\n",
      "A2 maintains a force equilibrium.\n"
     ]
    }
   ],
   "source": [
    "A2.solve()"
   ]
  },
  {
   "cell_type": "code",
   "execution_count": 24,
   "id": "a71de135",
   "metadata": {},
   "outputs": [
    {
     "data": {
      "text/plain": [
       "array([   -0.        , -3611.14252874,    -0.        ])"
      ]
     },
     "execution_count": 24,
     "metadata": {},
     "output_type": "execute_result"
    }
   ],
   "source": [
    "(A2.EFs[0].force + A2.EFs[1].force) * A2.axis"
   ]
  },
  {
   "cell_type": "code",
   "execution_count": 25,
   "id": "34120d95",
   "metadata": {},
   "outputs": [
    {
     "data": {
      "text/plain": [
       "array([-2899.97152989,  -746.35355308,   746.35355308])"
      ]
     },
     "execution_count": 25,
     "metadata": {},
     "output_type": "execute_result"
    }
   ],
   "source": [
    "G4.EFs[0].force"
   ]
  },
  {
   "cell_type": "code",
   "execution_count": 26,
   "id": "b7a78771",
   "metadata": {},
   "outputs": [
    {
     "data": {
      "text/plain": [
       "array([     0.        ,  -2864.78897565, -11459.15590262])"
      ]
     },
     "execution_count": 26,
     "metadata": {},
     "output_type": "execute_result"
    }
   ],
   "source": [
    "Fout.force"
   ]
  },
  {
   "cell_type": "code",
   "execution_count": 31,
   "id": "ea565b00",
   "metadata": {},
   "outputs": [
    {
     "data": {
      "text/plain": [
       "(array([  710.81704399,  8816.08954348, -6848.09271433]),\n",
       " array([ 2189.1544859 , -5204.94701474, 17560.89506386]))"
      ]
     },
     "execution_count": 31,
     "metadata": {},
     "output_type": "execute_result"
    }
   ],
   "source": [
    "C.F_tot.force, D.F_tot.force"
   ]
  }
 ],
 "metadata": {
  "kernelspec": {
   "display_name": "pygrit",
   "language": "python",
   "name": "python3"
  },
  "language_info": {
   "codemirror_mode": {
    "name": "ipython",
    "version": 3
   },
   "file_extension": ".py",
   "mimetype": "text/x-python",
   "name": "python",
   "nbconvert_exporter": "python",
   "pygments_lexer": "ipython3",
   "version": "3.11.5"
  }
 },
 "nbformat": 4,
 "nbformat_minor": 5
}
