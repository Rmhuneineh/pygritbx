{
 "cells": [
  {
   "cell_type": "code",
   "execution_count": 1,
   "id": "6ef3adb2",
   "metadata": {},
   "outputs": [],
   "source": [
    "import sys\n",
    "import os\n",
    "sys.path.append(os.path.abspath(\"..\"))\n",
    "import numpy as np\n",
    "import pygritbx"
   ]
  },
  {
   "cell_type": "code",
   "execution_count": 2,
   "id": "33162ac9",
   "metadata": {},
   "outputs": [],
   "source": [
    "# Unit Vectors for defining reference frame\n",
    "i = np.array([1, 0, 0])\n",
    "j = np.array([0, 1, 0])\n",
    "k = np.array([0, 0, 1])"
   ]
  },
  {
   "cell_type": "code",
   "execution_count": 3,
   "id": "c703fd93",
   "metadata": {},
   "outputs": [],
   "source": [
    "# Axial dimensions on Shaft A1\n",
    "a1 = 9 + 28.75 + 9 # [mm]\n",
    "b1 = (13.25 - 9) + 24.25 + 30 / 2 # [mm]\n",
    "zR1 = a1 + b1 # [mm]"
   ]
  },
  {
   "cell_type": "code",
   "execution_count": 4,
   "id": "8e5df0bc",
   "metadata": {},
   "outputs": [],
   "source": [
    "# Axial dimension on shaft A2\n",
    "zR4 = 17 + 18 / 2 # [mm]\n",
    "a2 = (46 - zR4) + 9.25 # [mm]\n",
    "b2 = 16 + 25 + 16 # [mm]\n",
    "c2 = (58.5 - 16) + 35 # [mm]\n"
   ]
  },
  {
   "cell_type": "code",
   "execution_count": 5,
   "id": "ff23b8e5",
   "metadata": {},
   "outputs": [],
   "source": [
    "# Input\n",
    "motor = pygritbx.Motor(\"M1\", 7.75e3, 2500, k, np.zeros(3))"
   ]
  },
  {
   "cell_type": "code",
   "execution_count": 6,
   "id": "53d71566",
   "metadata": {},
   "outputs": [],
   "source": [
    "# Material\n",
    "shaftMaterial = pygritbx.Material('34NiCrMo6', 1050, 950, 520, 0)\n",
    "R1R4_material = pygritbx.Material('Steel', 1060, 950, 0, 335)\n",
    "R2R3_material = pygritbx.Material('Steel', 1950, 1400, 0, 560)"
   ]
  },
  {
   "cell_type": "code",
   "execution_count": 7,
   "id": "2c7c00b0",
   "metadata": {},
   "outputs": [],
   "source": [
    "# Gears\n",
    "# R1\n",
    "R1 = pygritbx.Gear(\"R1\", k, np.array([0, 0, zR1]), 2.5, 18, 20, 20, 7, 30, R1R4_material)\n",
    "\n",
    "# R2\n",
    "R2 = pygritbx.Gear(\"R2\", k, np.array([0, 0, zR1]), 2.5, 73, -20, 20, 7, 30, R2R3_material)\n",
    "\n",
    "# R3\n",
    "R3 = pygritbx.Gear(\"R3\", k, np.array([0, 0, 55]), 2.5, 19, -20, 20, 7, 30, R2R3_material)\n",
    "\n",
    "# R4\n",
    "R4 = pygritbx.Gear(\"R4\", k, np.array([0, 0, zR4]), 2.5, 51, 20, 20, 7, 30, R1R4_material)"
   ]
  },
  {
   "cell_type": "code",
   "execution_count": null,
   "id": "796faca1",
   "metadata": {},
   "outputs": [],
   "source": [
    "# Supports\n",
    "# A (roller 30203)\n",
    "A = pygritbx.Support(\"A\", \"Roller\", \"Tapered\", \"30203\", \"Explorer\", 17, 40, \n",
    "                   13.25, 23.4e3, 18.6e3, 1.83e3, 15e3, 9, 0.35, 0, 1.7, \n",
    "                   0.9, 0, 0, 0, 0, -1, \"B2B\", np.zeros(3))\n",
    "\n",
    "# B (roller 30203)\n",
    "B = pygritbx.Support(\"B\", \"Pin\", \"Tapered\", \"30203\", \"Explorer\", 17, 40, \n",
    "                   13.25, 23.4e3, 18.6e3, 1.83e3, 15e3, 9, 0.35, 0, 1.7, \n",
    "                   0.9, 0, 0, 0, 0, 1, \"B2B\", np.array([0, 0, a1]))\n",
    "\n",
    "# C (roller 30208)\n",
    "C = pygritbx.Support(\"C\", \"Roller\", \"Tapered\", \"30208\", \"Explorer\", 40, 80, \n",
    "                   19.75, 75.8e3, 68e3, 7.65e3, 7e3, 16, 0.37, 0, 1.6, 0.9,\n",
    "                   0, 0, 0, 0, -1, \"B2B\", np.array([0, 0, zR4 + a2]))\n",
    "\n",
    "# D (roller 30208)\n",
    "D = pygritbx.Support(\"D\", \"Pin\", \"Tapered\", \"30208\", \"Explorer\", 40, 80, \n",
    "                   19.75, 75.8e3, 68e3, 7.65e3, 7e3, 16, 0.37, 0, 1.6, 0.9,\n",
    "                   0, 0, 0, 0, 1, \"B2B\", np.array([0, 0, zR4 + a2 + b2]))\n",
    "\n",
    "# F\n",
    "F = pygritbx.Support(\"\", \"\", \"\", \"\", \"\", 0, 0, 0, 0, 0, 0, 0, 0, 0, 0, 0, \n",
    "                   0, 0, 0, 0, 0, 0, \"\",  0)"
   ]
  },
  {
   "cell_type": "code",
   "execution_count": null,
   "id": "77e8a2d2",
   "metadata": {},
   "outputs": [],
   "source": [
    "# Shafts and meshes\n",
    "# Shaft A1\n",
    "A1 = pygritbx.Shaft(\"A1\", motor, R1, k, shaftMaterial, np.array([A, B]))\n",
    "R1.omega = A1.getOmegaShaft()\n",
    "R1.T_tot = A1.getShaftTorque()\n",
    "\n",
    "# Gear mesh R1 <--> R2\n",
    "M1 = pygritbx.GearMesh(R1, R2, -j, \"External\")\n",
    "R2.omega = M1.GetOmegaMesh()\n",
    "R2.T_tot = pygritbx.Torque(M1.GetMeshTorque(), R2.loc)\n",
    "\n",
    "# Shaft A1'\n",
    "A1_p = pygritbx.Shaft(\"A1'\", R2, R3, -k, shaftMaterial, np.array([F, F]))\n",
    "R3.omega = A1_p.getOmegaShaft()\n",
    "R3.T_tot = A1_p.getShaftTorque()\n",
    "\n",
    "# Gear mesh R3 <--> R4\n",
    "M2 = pygritbx.GearMesh(R3, R4, j, \"External\")\n",
    "R4.omega = M2.GetOmegaMesh()\n",
    "R4.T_tot = pygritbx.Torque(M2.GetMeshTorque(), R4.loc)\n",
    "\n",
    "# External force\n",
    "Fout_r = np.abs(np.sum(R4.T_tot.torque)) / 0.1 * j\n",
    "Fout_a = 0.25 * np.abs(np.sum(Fout_r)) * (-k)\n",
    "Fout = pygritbx.Force(Fout_a + Fout_r, np.array([0, 0, zR4 + a2 + b2 + c2]))\n",
    "output = pygritbx.Component(\"Output\", None, k, Fout.loc*k, Fout, pygritbx.Torque(-R4.T_tot.torque, Fout.loc*k), R4.omega)\n",
    "\n",
    "# Shaft A2\n",
    "A2 = pygritbx.Shaft(\"A2\", R4, output, k, shaftMaterial, np.array([C, D]))"
   ]
  },
  {
   "cell_type": "code",
   "execution_count": 10,
   "id": "e8b23283",
   "metadata": {},
   "outputs": [
    {
     "ename": "AttributeError",
     "evalue": "'Gear' object has no attribute 'F_tot'",
     "output_type": "error",
     "traceback": [
      "\u001b[31m---------------------------------------------------------------------------\u001b[39m",
      "\u001b[31mAttributeError\u001b[39m                            Traceback (most recent call last)",
      "\u001b[36mCell\u001b[39m\u001b[36m \u001b[39m\u001b[32mIn[10]\u001b[39m\u001b[32m, line 8\u001b[39m\n\u001b[32m      5\u001b[39m R4.calculateForces(M2, A2)\n\u001b[32m      7\u001b[39m \u001b[38;5;66;03m# Update A1's external forces and torques\u001b[39;00m\n\u001b[32m----> \u001b[39m\u001b[32m8\u001b[39m A1.updateEFs([motor.F_tot, \u001b[43mR1\u001b[49m\u001b[43m.\u001b[49m\u001b[43mF_tot\u001b[49m])\n\u001b[32m      9\u001b[39m A1.updateETs([motor.T_tot, R1.T_tot])\n\u001b[32m     11\u001b[39m \u001b[38;5;66;03m# Update A1_p's external forces and torque\u001b[39;00m\n",
      "\u001b[31mAttributeError\u001b[39m: 'Gear' object has no attribute 'F_tot'"
     ]
    }
   ],
   "source": [
    "# Forces\n",
    "R1.calculateForces(M1, A1)\n",
    "R2.calculateForces(M1, A1_p)\n",
    "R3.calculateForces(M2, A1_p)\n",
    "R4.calculateForces(M2, A2)\n",
    "\n",
    "# Update A1's external forces and torques\n",
    "A1.updateEFs([motor.F_tot, R1.F_tot])\n",
    "A1.updateETs([motor.T_tot, R1.T_tot])\n",
    "\n",
    "# Update A1_p's external forces and torque\n",
    "A1_p.updateEFs([R2.F_tot, R3.F_tot])\n",
    "A1_p.updateETs([R2.T_tot, R3.T_tot])\n",
    "\n",
    "# Update A2's external forces and torques\n",
    "A2.updateEFs([R4.F_tot, output.F_tot])\n",
    "A2.updateETs([R4.T_tot, output.T_tot])"
   ]
  },
  {
   "cell_type": "code",
   "execution_count": null,
   "id": "2a5351c2",
   "metadata": {},
   "outputs": [],
   "source": [
    "# Reaction forces\n",
    "A1.calculateReactionForces()\n",
    "A2.calculateReactionForces()"
   ]
  },
  {
   "cell_type": "code",
   "execution_count": null,
   "id": "2f414287",
   "metadata": {},
   "outputs": [],
   "source": [
    "A.updateReaction(A1)\n",
    "B.updateReaction(A1)\n",
    "C.updateReaction(A2)\n",
    "D.updateReaction(A2)"
   ]
  },
  {
   "cell_type": "code",
   "execution_count": null,
   "id": "cfcc51aa",
   "metadata": {},
   "outputs": [],
   "source": [
    "# Shaft A2: profile for static verification\n",
    "statProfile = pygritbx.ShaftProfile(np.array([34, 35, 35, 30, 30, 35, 35, 40, 40, 34, 34, 32, 32, 27, 27, 32, 32, 31]) / 2, \n",
    "                                  np.array([0, 1, 11.9, 12, 39.9, 40, 45.9, 46, 132.9, 133, 158.4, 158.5, 178.4, 178.5, 208.4, 208.5, 222, 223]))\n",
    "statProfile.AddFillet(1, [2], 45, 18.5)\n",
    "statProfile.AddFillet(1, [1], 134, 18)\n",
    "statProfile_refined = statProfile.refineProfile(0.1)\n",
    "A2.setProfile(statProfile_refined)\n",
    "A2.profile.CalculateSectionProperties()"
   ]
  },
  {
   "cell_type": "code",
   "execution_count": null,
   "id": "ee34d55f",
   "metadata": {},
   "outputs": [],
   "source": [
    "# Shaft A2: define sections\n",
    "# v1\n",
    "v1 = pygritbx.ShaftSection('V1', np.array([0, 0, 26]), 30, 0.8, shaftMaterial)\n",
    "v1.AppendKf(np.array([1.6, 2]), np.array([\"Bending\", \"Torsion\"]))\n"
   ]
  },
  {
   "cell_type": "code",
   "execution_count": null,
   "id": "b2affeab",
   "metadata": {},
   "outputs": [],
   "source": [
    "v1.name, v1.d, v1.Ra, v1.Kf_B, v1.Kf_T"
   ]
  },
  {
   "cell_type": "code",
   "execution_count": null,
   "id": "e4f3030b",
   "metadata": {},
   "outputs": [],
   "source": [
    "# v2\n",
    "v2 = pygritbx.ShaftSection('V2', np.array([0, 0, 46]), 40, 0.8, shaftMaterial)\n",
    "v2.AddNotchSensitivity(1, A2.material.sigma_u)\n",
    "v2.AddGeometricStressRaiser(1/35, 40/35)"
   ]
  },
  {
   "cell_type": "code",
   "execution_count": null,
   "id": "70f49f5a",
   "metadata": {},
   "outputs": [],
   "source": [
    "v2.name, v2.d, v2.Ra, v2.Kt_N, v2.Kf_N, v2.Kt_B, v2.Kf_B, v2.Kt_T, v2.Kf_T"
   ]
  },
  {
   "cell_type": "code",
   "execution_count": null,
   "id": "1b3150ee",
   "metadata": {},
   "outputs": [],
   "source": [
    "# v3\n",
    "v3 = pygritbx.ShaftSection('V3', np.array([0, 0, 133]), 40, 0.8, shaftMaterial)\n",
    "v3.AddNotchSensitivity(1, A2.material.sigma_u)\n",
    "v3.AddGeometricStressRaiser(1/34, 40/34)"
   ]
  },
  {
   "cell_type": "code",
   "execution_count": null,
   "id": "dbcfdfb1",
   "metadata": {},
   "outputs": [],
   "source": [
    "v3.name, v3.d, v3.Ra, v3.Kt_N, v3.Kf_N, v3.Kt_B, v3.Kf_B, v3.Kt_T, v3.Kf_T"
   ]
  },
  {
   "cell_type": "code",
   "execution_count": null,
   "id": "1e37d9e6",
   "metadata": {},
   "outputs": [],
   "source": [
    "userSections = np.array([v1, v2, v3])\n",
    "A2.addSections(userSections)"
   ]
  },
  {
   "cell_type": "code",
   "execution_count": null,
   "id": "bb31d857",
   "metadata": {},
   "outputs": [],
   "source": [
    "# Internal loads\n",
    "A2.calculateInternalLoads(np.array([i, j, k]))"
   ]
  },
  {
   "cell_type": "code",
   "execution_count": null,
   "id": "03cd1535",
   "metadata": {},
   "outputs": [],
   "source": [
    "# Plot internal loads\n",
    "A2.plotInternalLoads()"
   ]
  },
  {
   "cell_type": "code",
   "execution_count": null,
   "id": "3ddb31e9",
   "metadata": {},
   "outputs": [],
   "source": [
    "# Calculate stresses\n",
    "A2.calculateStresses()\n",
    "A2.calculateEquivalentAndIdealStress()"
   ]
  },
  {
   "cell_type": "code",
   "execution_count": null,
   "id": "cd319192",
   "metadata": {},
   "outputs": [],
   "source": [
    "A2.plotStresses()"
   ]
  },
  {
   "cell_type": "code",
   "execution_count": null,
   "id": "d37d662c",
   "metadata": {},
   "outputs": [],
   "source": [
    "# Static safety factors\n",
    "A2.calculateStaticSafetyFactor(sections=userSections)"
   ]
  },
  {
   "cell_type": "code",
   "execution_count": null,
   "id": "2b52e18f",
   "metadata": {},
   "outputs": [],
   "source": [
    "userSections[2].staticSF"
   ]
  },
  {
   "cell_type": "code",
   "execution_count": null,
   "id": "8a9a0116",
   "metadata": {},
   "outputs": [],
   "source": [
    "# Shaft A2: profile for fatigue verification\n",
    "fatigueProfile = pygritbx.ShaftProfile(np.array([34, 35, 35, 40, 40, 34, 34, 32, 32, 31]) / 2,\n",
    "                                     np.array([0, 1, 45.9, 46, 132.9, 133, 158.4, 158.5, 222, 223]))\n",
    "fatigueProfile.AddFillet(1, [2], 45, 18.5)\n",
    "fatigueProfile.AddFillet(1, [1], 134, 18)\n",
    "fatigueProfile_refined = fatigueProfile.refineProfile(0.1)\n",
    "A2.setProfile(fatigueProfile_refined)\n",
    "A2.profile.CalculateSectionProperties()\n",
    "A2.sections[0].d = 35\n",
    "userSections[0].d = 35"
   ]
  },
  {
   "cell_type": "code",
   "execution_count": null,
   "id": "3dbeb3a2",
   "metadata": {},
   "outputs": [],
   "source": [
    "# Recalculate internal loads and stresses\n",
    "A2.calculateInternalLoads(np.array([i, j, k]))\n",
    "A2.calculateStresses()"
   ]
  },
  {
   "cell_type": "code",
   "execution_count": null,
   "id": "c9afcf7e",
   "metadata": {},
   "outputs": [],
   "source": [
    "# Recalculate total and equivalent stress\n",
    "A2.calculateEquivalentAndIdealStress()"
   ]
  },
  {
   "cell_type": "code",
   "execution_count": null,
   "id": "2038bc76",
   "metadata": {},
   "outputs": [],
   "source": [
    "# replot internal loads and stress\n",
    "A2.plotInternalLoads()"
   ]
  },
  {
   "cell_type": "code",
   "execution_count": null,
   "id": "b1c86ee2",
   "metadata": {},
   "outputs": [],
   "source": [
    "# Replot stresses\n",
    "A2.plotStresses()"
   ]
  },
  {
   "cell_type": "code",
   "execution_count": null,
   "id": "f7045b14",
   "metadata": {},
   "outputs": [],
   "source": [
    "# Calculate mean and alternating stresses\n",
    "A2.calculateMeanAlternatingStress(userSections)"
   ]
  },
  {
   "cell_type": "code",
   "execution_count": null,
   "id": "6dc416a0",
   "metadata": {},
   "outputs": [],
   "source": [
    "# Fatigue limit corrector factor\n",
    "A2.insertFLCF(userSections)"
   ]
  },
  {
   "cell_type": "code",
   "execution_count": null,
   "id": "82e2788c",
   "metadata": {},
   "outputs": [],
   "source": [
    "# Equivalent mean and alternating stress\n",
    "A2.calculateEquivalentStresses(userSections)"
   ]
  },
  {
   "cell_type": "code",
   "execution_count": null,
   "id": "16dc965a",
   "metadata": {},
   "outputs": [],
   "source": [
    "# Plot haigh diagram\n",
    "for section in userSections:\n",
    "    section.PlotHaighDiagram()"
   ]
  },
  {
   "cell_type": "code",
   "execution_count": null,
   "id": "40862e41",
   "metadata": {},
   "outputs": [],
   "source": [
    "# Fatigue sagety factor\n",
    "for section in A2.sections:\n",
    "    section.CalculateFatigueSF()\n",
    "    print(f\"{section.name}: {section.fatigueSF}\")"
   ]
  },
  {
   "cell_type": "code",
   "execution_count": null,
   "id": "42b071d5",
   "metadata": {},
   "outputs": [],
   "source": [
    "# Maximum tooth gear bending stress\n",
    "R1.calculateSigmaMaxFatigue(M1, \"Uniform\", \"Uniform\", 35, 1, \"uncrowned teeth\", a1 + b1 + 50, \"Commercial, enclosed units\")\n",
    "R3.calculateSigmaMaxFatigue(M2, \"Uniform\", \"Uniform\", 30, 1, \"uncrowned teeth\", 70, \"Commercial, enclosed units\")"
   ]
  },
  {
   "cell_type": "code",
   "execution_count": null,
   "id": "2ca0f1c3",
   "metadata": {},
   "outputs": [],
   "source": [
    "R1.sigma_max_fatigue, R3.sigma_max_fatigue"
   ]
  },
  {
   "cell_type": "code",
   "execution_count": null,
   "id": "1ce994a9",
   "metadata": {},
   "outputs": [],
   "source": [
    "# Bending safety factor\n",
    "R1.calculateBendingSF(320, 1.3558, -0.0178, 1e8, 60, 0.99)\n",
    "R3.calculateBendingSF(450, 1.3558, -0.0178, 1e8, 60, 0.99)"
   ]
  },
  {
   "cell_type": "code",
   "execution_count": null,
   "id": "84bca6a3",
   "metadata": {},
   "outputs": [],
   "source": [
    "R1.bendingSF, R3.bendingSF"
   ]
  },
  {
   "cell_type": "code",
   "execution_count": null,
   "id": "060df228",
   "metadata": {},
   "outputs": [],
   "source": [
    "# Maximum gear contact (pitting resistance) stress\n",
    "R1.calculateSigmaMaxPitting(M1, 1)\n",
    "R3.calculateSigmaMaxPitting(M2, 1)"
   ]
  },
  {
   "cell_type": "code",
   "execution_count": null,
   "id": "2781e04f",
   "metadata": {},
   "outputs": [],
   "source": [
    "R1.sigma_max_pitting, R3.sigma_max_pitting"
   ]
  },
  {
   "cell_type": "code",
   "execution_count": null,
   "id": "fd1712b7",
   "metadata": {},
   "outputs": [],
   "source": [
    "# Wear safety factor\n",
    "R1.calculateWearSF(860, 1.4488, -0.023, 1e8, M1)\n",
    "R3.calculateWearSF(1360, 1.4488, -0.023, 1e8, M2)"
   ]
  },
  {
   "cell_type": "code",
   "execution_count": null,
   "id": "70ba4606",
   "metadata": {},
   "outputs": [],
   "source": [
    "R1.wearSF, R3.wearSF"
   ]
  },
  {
   "cell_type": "code",
   "execution_count": null,
   "id": "323b060c",
   "metadata": {},
   "outputs": [],
   "source": [
    "# Minimum load verifivation\n",
    "A.calculateMinimumLoad()\n",
    "B.calculateMinimumLoad()\n",
    "C.calculateMinimumLoad()\n",
    "D.calculateMinimumLoad()"
   ]
  },
  {
   "cell_type": "code",
   "execution_count": null,
   "id": "b1944428",
   "metadata": {},
   "outputs": [],
   "source": [
    "A.Frm, B.Frm, C.Frm, D.Frm"
   ]
  },
  {
   "cell_type": "code",
   "execution_count": null,
   "id": "5e414584",
   "metadata": {},
   "outputs": [],
   "source": [
    "# Equivalent static load\n",
    "A.calculateEquivalentStaticLoad()\n",
    "B.calculateEquivalentStaticLoad()\n",
    "C.calculateEquivalentStaticLoad()\n",
    "D.calculateEquivalentStaticLoad()"
   ]
  },
  {
   "cell_type": "code",
   "execution_count": null,
   "id": "168e7abd",
   "metadata": {},
   "outputs": [],
   "source": [
    "A.s0, B.s0, C.s0, D.s0"
   ]
  },
  {
   "cell_type": "code",
   "execution_count": null,
   "id": "dc52ccec",
   "metadata": {},
   "outputs": [],
   "source": [
    "# Reliability factor\n",
    "A.calculateA1(95)\n",
    "B.calculateA1(95)\n",
    "C.calculateA1(95)\n",
    "D.calculateA1(95)"
   ]
  },
  {
   "cell_type": "code",
   "execution_count": null,
   "id": "d33a4f57",
   "metadata": {},
   "outputs": [],
   "source": [
    "A.a1, B.a1, C.a1, D.a1"
   ]
  },
  {
   "cell_type": "code",
   "execution_count": null,
   "id": "c43ecc4f",
   "metadata": {},
   "outputs": [],
   "source": [
    "# Define oil of choice\n",
    "oil = pygritbx.Oil(\"ISO VG 100\", 60, 15, 45)"
   ]
  },
  {
   "cell_type": "code",
   "execution_count": null,
   "id": "a0597eaa",
   "metadata": {},
   "outputs": [],
   "source": [
    "# Bearing equivalent dynamic load\n",
    "A.calculateEquivalentDynamicLoad()\n",
    "B.calculateEquivalentDynamicLoad()\n",
    "C.calculateEquivalentDynamicLoad()\n",
    "D.calculateEquivalentDynamicLoad()"
   ]
  },
  {
   "cell_type": "code",
   "execution_count": null,
   "id": "e78fee06",
   "metadata": {},
   "outputs": [],
   "source": [
    "A.P, B.P, C.P, D.P"
   ]
  },
  {
   "cell_type": "code",
   "execution_count": null,
   "id": "0c925745",
   "metadata": {},
   "outputs": [],
   "source": [
    "# Contamination factor\n",
    "A.calculateEtaC(\"Slight contamination\")\n",
    "B.calculateEtaC(\"Slight contamination\")\n",
    "C.calculateEtaC(\"Slight contamination\")\n",
    "D.calculateEtaC(\"Slight contamination\")"
   ]
  },
  {
   "cell_type": "code",
   "execution_count": null,
   "id": "ce9f19b0",
   "metadata": {},
   "outputs": [],
   "source": [
    "A.eta_c, B.eta_c, C.eta_c, D.eta_c"
   ]
  },
  {
   "cell_type": "code",
   "execution_count": null,
   "id": "a2936167",
   "metadata": {},
   "outputs": [],
   "source": [
    "# Lubrication, contamination, and fatigue limit factor\n",
    "A.a_skf = 2\n",
    "B.a_skf = 5\n",
    "C.a_skf = 1\n",
    "D.a_skf = 2"
   ]
  },
  {
   "cell_type": "code",
   "execution_count": null,
   "id": "907d9461",
   "metadata": {},
   "outputs": [],
   "source": [
    "# Calculate bearing life\n",
    "A.calculateBearingLife()\n",
    "B.calculateBearingLife()\n",
    "C.calculateBearingLife()\n",
    "D.calculateBearingLife()"
   ]
  },
  {
   "cell_type": "code",
   "execution_count": null,
   "id": "56f12431",
   "metadata": {},
   "outputs": [],
   "source": [
    "A.L_10m, A.L_10mh, B.L_10m, B.L_10mh, C.L_10m, C.L_10mh, D.L_10m, D.L_10mh"
   ]
  },
  {
   "cell_type": "code",
   "execution_count": null,
   "id": "b0a8c594",
   "metadata": {},
   "outputs": [],
   "source": []
  }
 ],
 "metadata": {
  "kernelspec": {
   "display_name": "pygrit",
   "language": "python",
   "name": "python3"
  },
  "language_info": {
   "codemirror_mode": {
    "name": "ipython",
    "version": 3
   },
   "file_extension": ".py",
   "mimetype": "text/x-python",
   "name": "python",
   "nbconvert_exporter": "python",
   "pygments_lexer": "ipython3",
   "version": "3.11.5"
  }
 },
 "nbformat": 4,
 "nbformat_minor": 5
}
