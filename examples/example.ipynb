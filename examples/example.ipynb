{
 "cells": [
  {
   "cell_type": "code",
   "execution_count": null,
   "id": "6ef3adb2",
   "metadata": {},
   "outputs": [],
   "source": [
    "import sys\n",
    "import os\n",
    "sys.path.append(os.path.abspath(\"..\"))\n",
    "import numpy as np\n",
    "import pygritbx"
   ]
  },
  {
   "cell_type": "code",
   "execution_count": null,
   "id": "33162ac9",
   "metadata": {},
   "outputs": [],
   "source": [
    "# Unit Vectors for defining reference frame\n",
    "i = np.array([1, 0, 0])\n",
    "j = np.array([0, 1, 0])\n",
    "k = np.array([0, 0, 1])"
   ]
  },
  {
   "cell_type": "code",
   "execution_count": null,
   "id": "c703fd93",
   "metadata": {},
   "outputs": [],
   "source": [
    "# Axial dimensions on Shaft A1\n",
    "a1 = 9 + 28.75 + 9 # [mm]\n",
    "b1 = (13.25 - 9) + 24.25 + 30 / 2 # [mm]\n",
    "zR1 = a1 + b1 # [mm]"
   ]
  },
  {
   "cell_type": "code",
   "execution_count": null,
   "id": "7e80f7ec",
   "metadata": {},
   "outputs": [],
   "source": [
    "# Axial dimension on shaft A1'\n",
    "zR2 = 0 # [mm]\n",
    "zR3 = 55 # [mm]"
   ]
  },
  {
   "cell_type": "code",
   "execution_count": null,
   "id": "8e5df0bc",
   "metadata": {},
   "outputs": [],
   "source": [
    "# Axial dimension on shaft A2\n",
    "zR4 = 17 + 18 / 2 # [mm]\n",
    "a2 = (46 - zR4) + 9.25 # [mm]\n",
    "b2 = 16 + 25 + 16 # [mm]\n",
    "c2 = (58.5 - 16) + 35 # [mm]\n"
   ]
  },
  {
   "cell_type": "code",
   "execution_count": null,
   "id": "ff23b8e5",
   "metadata": {},
   "outputs": [],
   "source": [
    "# Input\n",
    "motor = pygritbx.Motor(name=\"M1\", loc=0, power=6.25e3, n=2000, axis=k)"
   ]
  },
  {
   "cell_type": "code",
   "execution_count": null,
   "id": "53d71566",
   "metadata": {},
   "outputs": [],
   "source": [
    "# Material\n",
    "shaftMaterial = pygritbx.Material(name='34NiCrMo6', sigma_u=1050, sigma_y=950, sigma_Dm1=520, HB=0)\n",
    "R1R4_material = pygritbx.Material(name='Steel', sigma_u=1060, sigma_y=950, sigma_Dm1=0, HB=335)\n",
    "R2R3_material = pygritbx.Material(name='Steel', sigma_u=1950, sigma_y=1400, sigma_Dm1=0, HB=560)"
   ]
  },
  {
   "cell_type": "code",
   "execution_count": null,
   "id": "2c7c00b0",
   "metadata": {},
   "outputs": [],
   "source": [
    "# Gears\n",
    "# R1\n",
    "R1 = pygritbx.Gear(name=\"R1\", axis=k, loc=zR1, m_n=2.5, z=18, psi=20, phi_n=20, Q_v=7, FW=30, material=R1R4_material)\n",
    "\n",
    "# R2\n",
    "R2 = pygritbx.Gear(name=\"R2\", axis=k, loc=zR2, m_n=2.5, z=73, psi=-20, phi_n=20, Q_v=7, FW=30, material=R2R3_material)\n",
    "\n",
    "# R3\n",
    "R3 = pygritbx.Gear(name=\"R3\", axis=k, loc=zR3, m_n=2.5, z=19, psi=-20, phi_n=20, Q_v=7, FW=30, material=R2R3_material)\n",
    "\n",
    "# R4\n",
    "R4 = pygritbx.Gear(name=\"R4\", axis=k, loc=zR4, m_n=2.5, z=51, psi=20, phi_n=20, Q_v=7, FW=30, material=R1R4_material)"
   ]
  },
  {
   "cell_type": "code",
   "execution_count": null,
   "id": "796faca1",
   "metadata": {},
   "outputs": [],
   "source": [
    "# Supports\n",
    "# A (roller 30203)\n",
    "A = pygritbx.Support(name=\"A\", type=\"Roller\", bearingType=\"Tapered\", catalogueName=\"30203\", catalogueType=\"Explorer\",\n",
    "                     d=17, D=40, B=13.25, C=23.4e3, C0=18.6e3, Pu=1.83e3, nr=15e3, a=9, e=0.35, X=0, Y=1.7, Y0=0.9, Y1=0,\n",
    "                     Y2=0, A=0, kr=0, shoulder=-1, arr=\"B2B\", axis=k, loc=0)\n",
    "\n",
    "# B (roller 30203)\n",
    "B = pygritbx.Support(name=\"B\", type=\"Pin\", bearingType=\"Tapered\", catalogueName=\"30203\", catalogueType=\"Explorer\",\n",
    "                     d=17, D=40, B=13.25, C=23.4e3, C0=18.6e3, Pu=1.83e3, nr=15e3, a=9, e=0.35, X=0, Y=1.7,Y0=0.9, Y1=0,\n",
    "                     Y2=0, A=0, kr=0, shoulder=1, arr=\"B2B\", axis=k, loc=a1)\n",
    "\n",
    "# C (roller 30208)\n",
    "C = pygritbx.Support(name=\"C\", type=\"Roller\", bearingType=\"Tapered\", catalogueName=\"30208\", catalogueType=\"Explorer\",\n",
    "                     d=40, D=80, B=19.75, C=75.8e3, C0=68e3, Pu=7.65e3, nr=7e3, a=16, e=0.37, X=0, Y=1.6, Y0=0.9, Y1=0,\n",
    "                     Y2=0, A=0, kr=0, shoulder=-1, arr=\"B2B\", axis=k, loc=zR4 + a2)\n",
    "\n",
    "# D (roller 30208)\n",
    "D = pygritbx.Support(name=\"D\", type=\"Pin\", bearingType=\"Tapered\", catalogueName=\"30208\", catalogueType=\"Explorer\",\n",
    "                     d=40, D=80, B=19.75, C=75.8e3, C0=68e3, Pu=7.65e3, nr=7e3, a=16, e=0.37, X=0, Y=1.6, Y0=0.9, Y1=0,\n",
    "                     Y2=0, A=0, kr=0, shoulder=1, arr=\"B2B\", axis=k, loc=zR4 + a2 + b2)\n",
    "\n",
    "# F\n",
    "F = pygritbx.Support(axis=k)"
   ]
  },
  {
   "cell_type": "code",
   "execution_count": null,
   "id": "720860ff",
   "metadata": {},
   "outputs": [],
   "source": [
    "# Output Component\n",
    "output = pygritbx.Component(\"Output\", None, k, zR4 + a2 + b2 + c2)"
   ]
  },
  {
   "cell_type": "code",
   "execution_count": null,
   "id": "ee3ffcc8",
   "metadata": {},
   "outputs": [],
   "source": [
    "# Gearbox Configuration\n",
    "# Shaft A1\n",
    "A1 = pygritbx.Shaft(name=\"A1\", inputs=[motor], outputs=[R1], axis=k, material=shaftMaterial, sups=np.array([A, B]), loc=[0, 0, 0])\n",
    "# Mesh M1\n",
    "M1 = pygritbx.GearMesh(name=\"M1\", drivingGear=R1, drivenGear=R2, axis=-j, type=\"External\")\n",
    "# Shaft A1'\n",
    "A1_p = pygritbx.Shaft(\"A1'\", [R2], [R3], -k, shaftMaterial, np.array([F, F]))\n",
    "# Mesh M2\n",
    "M2 = pygritbx.GearMesh(\"M2\", R3, R4, j, \"External\")\n",
    "# Shaft A2\n",
    "A2 = pygritbx.Shaft(\"A2\", [R4], [output], k, shaftMaterial, np.array([C, D]))"
   ]
  },
  {
   "cell_type": "code",
   "execution_count": null,
   "id": "bf3cafac",
   "metadata": {},
   "outputs": [],
   "source": [
    "A1.solve()"
   ]
  },
  {
   "cell_type": "code",
   "execution_count": null,
   "id": "1cefa317",
   "metadata": {},
   "outputs": [],
   "source": [
    "R1.EFs[0].force, R1.ETs[0].torque"
   ]
  },
  {
   "cell_type": "code",
   "execution_count": null,
   "id": "3b318809",
   "metadata": {},
   "outputs": [],
   "source": [
    "A.F_tot.force, B.F_tot.force"
   ]
  },
  {
   "cell_type": "code",
   "execution_count": null,
   "id": "5ceaffd1",
   "metadata": {},
   "outputs": [],
   "source": [
    "R2.solve()"
   ]
  },
  {
   "cell_type": "code",
   "execution_count": null,
   "id": "0f1ef16d",
   "metadata": {},
   "outputs": [],
   "source": [
    "A1_p.solve()"
   ]
  },
  {
   "cell_type": "code",
   "execution_count": null,
   "id": "bc98b9a2",
   "metadata": {},
   "outputs": [],
   "source": [
    "R3.solve()"
   ]
  },
  {
   "cell_type": "code",
   "execution_count": null,
   "id": "db927d4b",
   "metadata": {},
   "outputs": [],
   "source": [
    "R4.solve()"
   ]
  },
  {
   "cell_type": "code",
   "execution_count": null,
   "id": "99dd7e40",
   "metadata": {},
   "outputs": [],
   "source": [
    "Fout_r = np.abs(np.sum(R4.ETs[0].torque)) / 0.1 * j\n",
    "Fout_a = 0.25 * np.abs(np.sum(Fout_r)) * (-k)\n",
    "Fout = pygritbx.Force(Fout_a + Fout_r, output.abs_loc)\n",
    "A2.outputs[0].updateEFs([Fout])"
   ]
  },
  {
   "cell_type": "code",
   "execution_count": null,
   "id": "37eecd17",
   "metadata": {},
   "outputs": [],
   "source": [
    "A2.solve()"
   ]
  },
  {
   "cell_type": "code",
   "execution_count": null,
   "id": "047d758e",
   "metadata": {},
   "outputs": [],
   "source": [
    "C.F_tot.force, D.F_tot.force"
   ]
  },
  {
   "cell_type": "code",
   "execution_count": null,
   "id": "cfcc51aa",
   "metadata": {},
   "outputs": [],
   "source": [
    "# Shaft A2: profile for static verification\n",
    "statProfile = pygritbx.ShaftProfile(np.array([34, 35, 35, 30, 30, 35, 35, 40, 40, 34, 34, 32, 32, 27, 27, 32, 32, 31]) / 2, \n",
    "                                  np.array([0, 1, 11.9, 12, 39.9, 40, 45.9, 46, 132.9, 133, 158.4, 158.5, 178.4, 178.5, 208.4, 208.5, 222, 223]))\n",
    "statProfile.AddFillet(1, [2], 45, 18.5)\n",
    "statProfile.AddFillet(1, [1], 134, 18)\n",
    "statProfile_refined = statProfile.refineProfile(0.1)\n",
    "A2.setProfile(statProfile_refined)\n",
    "A2.profile.CalculateSectionProperties()"
   ]
  },
  {
   "cell_type": "code",
   "execution_count": null,
   "id": "ee34d55f",
   "metadata": {},
   "outputs": [],
   "source": [
    "# Shaft A2: define sections\n",
    "# v1\n",
    "v1 = pygritbx.ShaftSection('V1', np.array([0, 0, 26]), 30, 0.8, shaftMaterial)\n",
    "v1.AppendKf(np.array([1.6, 2]), np.array([\"Bending\", \"Torsion\"]))\n"
   ]
  },
  {
   "cell_type": "code",
   "execution_count": null,
   "id": "e4f3030b",
   "metadata": {},
   "outputs": [],
   "source": [
    "# v2\n",
    "v2 = pygritbx.ShaftSection('V2', np.array([0, 0, 46]), 40, 0.8, shaftMaterial)\n",
    "v2.AddNotchSensitivity(1, A2.material.sigma_u)\n",
    "v2.AddGeometricStressRaiser(1/35, 40/35)"
   ]
  },
  {
   "cell_type": "code",
   "execution_count": null,
   "id": "1b3150ee",
   "metadata": {},
   "outputs": [],
   "source": [
    "# v3\n",
    "v3 = pygritbx.ShaftSection('V3', np.array([0, 0, 133]), 40, 0.8, shaftMaterial)\n",
    "v3.AddNotchSensitivity(1, A2.material.sigma_u)\n",
    "v3.AddGeometricStressRaiser(1/34, 40/34)"
   ]
  },
  {
   "cell_type": "code",
   "execution_count": null,
   "id": "1e37d9e6",
   "metadata": {},
   "outputs": [],
   "source": [
    "userSections = np.array([v1, v2, v3])\n",
    "A2.addSections(userSections)"
   ]
  },
  {
   "cell_type": "code",
   "execution_count": null,
   "id": "bb31d857",
   "metadata": {},
   "outputs": [],
   "source": [
    "# Internal loads\n",
    "A2.calculateInternalLoads(np.array([i, j, k]))"
   ]
  },
  {
   "cell_type": "code",
   "execution_count": null,
   "id": "03cd1535",
   "metadata": {},
   "outputs": [],
   "source": [
    "# Plot internal loads\n",
    "A2.plotInternalLoads()"
   ]
  },
  {
   "cell_type": "code",
   "execution_count": null,
   "id": "3ddb31e9",
   "metadata": {},
   "outputs": [],
   "source": [
    "# Calculate stresses\n",
    "A2.calculateStresses()\n",
    "A2.calculateEquivalentAndIdealStress()"
   ]
  },
  {
   "cell_type": "code",
   "execution_count": null,
   "id": "cd319192",
   "metadata": {},
   "outputs": [],
   "source": [
    "A2.plotStresses()"
   ]
  },
  {
   "cell_type": "code",
   "execution_count": null,
   "id": "d37d662c",
   "metadata": {},
   "outputs": [],
   "source": [
    "# Static safety factors\n",
    "A2.calculateStaticSafetyFactor(sections=userSections)"
   ]
  },
  {
   "cell_type": "code",
   "execution_count": null,
   "id": "2b52e18f",
   "metadata": {},
   "outputs": [],
   "source": [
    "userSections[0].staticSF, userSections[1].staticSF, userSections[2].staticSF"
   ]
  },
  {
   "cell_type": "code",
   "execution_count": null,
   "id": "8a9a0116",
   "metadata": {},
   "outputs": [],
   "source": [
    "# Shaft A2: profile for fatigue verification\n",
    "fatigueProfile = pygritbx.ShaftProfile(np.array([34, 35, 35, 40, 40, 34, 34, 32, 32, 31]) / 2,\n",
    "                                     np.array([0, 1, 45.9, 46, 132.9, 133, 158.4, 158.5, 222, 223]))\n",
    "fatigueProfile.AddFillet(1, [2], 45, 18.5)\n",
    "fatigueProfile.AddFillet(1, [1], 134, 18)\n",
    "fatigueProfile_refined = fatigueProfile.refineProfile(0.1)\n",
    "A2.setProfile(fatigueProfile_refined)\n",
    "A2.profile.CalculateSectionProperties()\n",
    "A2.sections[0].d = 35\n",
    "userSections[0].d = 35"
   ]
  },
  {
   "cell_type": "code",
   "execution_count": null,
   "id": "3dbeb3a2",
   "metadata": {},
   "outputs": [],
   "source": [
    "# Recalculate internal loads and stresses\n",
    "A2.calculateInternalLoads(np.array([i, j, k]))\n",
    "A2.calculateStresses()"
   ]
  },
  {
   "cell_type": "code",
   "execution_count": null,
   "id": "c9afcf7e",
   "metadata": {},
   "outputs": [],
   "source": [
    "# Recalculate total and equivalent stress\n",
    "A2.calculateEquivalentAndIdealStress()"
   ]
  },
  {
   "cell_type": "code",
   "execution_count": null,
   "id": "2038bc76",
   "metadata": {},
   "outputs": [],
   "source": [
    "# replot internal loads and stress\n",
    "A2.plotInternalLoads()"
   ]
  },
  {
   "cell_type": "code",
   "execution_count": null,
   "id": "b1c86ee2",
   "metadata": {},
   "outputs": [],
   "source": [
    "# Replot stresses\n",
    "A2.plotStresses()"
   ]
  },
  {
   "cell_type": "code",
   "execution_count": null,
   "id": "f7045b14",
   "metadata": {},
   "outputs": [],
   "source": [
    "# Calculate mean and alternating stresses\n",
    "A2.calculateMeanAlternatingStress(userSections)"
   ]
  },
  {
   "cell_type": "code",
   "execution_count": null,
   "id": "6dc416a0",
   "metadata": {},
   "outputs": [],
   "source": [
    "# Fatigue limit corrector factor\n",
    "A2.insertFLCF(userSections)"
   ]
  },
  {
   "cell_type": "code",
   "execution_count": null,
   "id": "82e2788c",
   "metadata": {},
   "outputs": [],
   "source": [
    "# Equivalent mean and alternating stress\n",
    "A2.calculateEquivalentStresses(userSections)"
   ]
  },
  {
   "cell_type": "code",
   "execution_count": null,
   "id": "16dc965a",
   "metadata": {},
   "outputs": [],
   "source": [
    "# Plot haigh diagram\n",
    "for section in userSections:\n",
    "    section.PlotHaighDiagram()"
   ]
  },
  {
   "cell_type": "code",
   "execution_count": null,
   "id": "40862e41",
   "metadata": {},
   "outputs": [],
   "source": [
    "# Fatigue sagety factor\n",
    "for section in A2.sections:\n",
    "    section.CalculateFatigueSF()\n",
    "    print(f\"{section.name}: {section.fatigueSF}\")"
   ]
  },
  {
   "cell_type": "code",
   "execution_count": null,
   "id": "1b1deece",
   "metadata": {},
   "outputs": [],
   "source": [
    "R1.analyseGearToothBending(mesh=M1, powerSource=\"Uniform\", drivenMachine=\"Uniform\", dShaft=35, Ce=1, teethCond=\"uncrowned teeth\",\n",
    "                           lShaft=a1+b1+50, useCond=\"Commercial, enclosed units\", sigma_FP=320, b_YN=1.3558, e_YN=-0.0178,\n",
    "                           N=1e8, temp=60, rel=0.99)"
   ]
  },
  {
   "cell_type": "code",
   "execution_count": null,
   "id": "42b071d5",
   "metadata": {},
   "outputs": [],
   "source": [
    "# Maximum tooth gear bending stress\n",
    "R1.calculateSigmaMaxFatigue(M1, \"Uniform\", \"Uniform\", 35, 1, \"uncrowned teeth\", a1 + b1 + 50, \"Commercial, enclosed units\")\n",
    "R3.calculateSigmaMaxFatigue(M2, \"Uniform\", \"Uniform\", 30, 1, \"uncrowned teeth\", 70, \"Commercial, enclosed units\")"
   ]
  },
  {
   "cell_type": "code",
   "execution_count": null,
   "id": "2ca0f1c3",
   "metadata": {},
   "outputs": [],
   "source": [
    "R1.sigma_max_fatigue, R3.sigma_max_fatigue"
   ]
  },
  {
   "cell_type": "code",
   "execution_count": null,
   "id": "1ce994a9",
   "metadata": {},
   "outputs": [],
   "source": [
    "# Bending safety factor\n",
    "R1.calculateBendingSF(320, 1.3558, -0.0178, 1e8, 60, 0.99)\n",
    "R3.calculateBendingSF(450, 1.3558, -0.0178, 1e8, 60, 0.99)"
   ]
  },
  {
   "cell_type": "code",
   "execution_count": null,
   "id": "84bca6a3",
   "metadata": {},
   "outputs": [],
   "source": [
    "R1.bendingSF, R3.bendingSF"
   ]
  },
  {
   "cell_type": "code",
   "execution_count": null,
   "id": "060df228",
   "metadata": {},
   "outputs": [],
   "source": [
    "# Maximum gear contact (pitting resistance) stress\n",
    "R1.calculateSigmaMaxPitting(M1, 1)\n",
    "R3.calculateSigmaMaxPitting(M2, 1)"
   ]
  },
  {
   "cell_type": "code",
   "execution_count": null,
   "id": "2781e04f",
   "metadata": {},
   "outputs": [],
   "source": [
    "R1.sigma_max_pitting, R3.sigma_max_pitting"
   ]
  },
  {
   "cell_type": "code",
   "execution_count": null,
   "id": "fd1712b7",
   "metadata": {},
   "outputs": [],
   "source": [
    "# Wear safety factor\n",
    "R1.calculateWearSF(860, 1.4488, -0.023, 1e8, M1)\n",
    "R3.calculateWearSF(1360, 1.4488, -0.023, 1e8, M2)"
   ]
  },
  {
   "cell_type": "code",
   "execution_count": null,
   "id": "70ba4606",
   "metadata": {},
   "outputs": [],
   "source": [
    "R1.wearSF, R3.wearSF"
   ]
  },
  {
   "cell_type": "code",
   "execution_count": null,
   "id": "b94095e0",
   "metadata": {},
   "outputs": [],
   "source": [
    "A.performLifeAnalysis(rel=95, condition=\"Slight contamination\", a_skf=2)"
   ]
  },
  {
   "cell_type": "code",
   "execution_count": null,
   "id": "c354fba1",
   "metadata": {},
   "outputs": [],
   "source": [
    "B.performLifeAnalysis(rel=95, condition=\"Slight contamination\", a_skf=5)"
   ]
  },
  {
   "cell_type": "code",
   "execution_count": null,
   "id": "67f62951",
   "metadata": {},
   "outputs": [],
   "source": [
    "C.performLifeAnalysis(rel=95, condition=\"Slight contamination\", a_skf=1)"
   ]
  },
  {
   "cell_type": "code",
   "execution_count": null,
   "id": "aca084ad",
   "metadata": {},
   "outputs": [],
   "source": [
    "D.performLifeAnalysis(rel=95, condition=\"Slight contamination\", a_skf=2)"
   ]
  },
  {
   "cell_type": "code",
   "execution_count": null,
   "id": "c43ecc4f",
   "metadata": {},
   "outputs": [],
   "source": [
    "# Define oil of choice\n",
    "oil = pygritbx.Oil(\"ISO VG 100\", 60, 15, 45)"
   ]
  }
 ],
 "metadata": {
  "kernelspec": {
   "display_name": "pygrit",
   "language": "python",
   "name": "python3"
  },
  "language_info": {
   "codemirror_mode": {
    "name": "ipython",
    "version": 3
   },
   "file_extension": ".py",
   "mimetype": "text/x-python",
   "name": "python",
   "nbconvert_exporter": "python",
   "pygments_lexer": "ipython3",
   "version": "3.11.5"
  }
 },
 "nbformat": 4,
 "nbformat_minor": 5
}
